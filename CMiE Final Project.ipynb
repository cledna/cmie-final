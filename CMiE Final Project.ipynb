{
 "cells": [
  {
   "cell_type": "markdown",
   "metadata": {},
   "source": [
    "## Final Project\n",
    "\n",
    "#### Catherine Ledna\n",
    "##### 4-11-18\n",
    "\n",
    "\n",
    "### Overview\n",
    "\n",
    "This project recreates the results of Gutrich & Howarth (2007), solving for optimal stand rotation of privately owned forests under private and social welfare functions that take into account the social value of carbon sequestration. The equations used in this paper are described below, and full documentation may be found at: $\\newline$\n",
    "\n",
    "Gutrich, J. & Howarth, RB. 2007. Carbon sequestration and the optimal management of New Hampshire timber stands. *Ecological Economics* 62(3-4): 441-450. \n",
    "\n",
    "$\\newline$\n",
    "The Github repository for this project may be found here: https://github.com/cledna/cmie-final. \n",
    "\n",
    "\n",
    "$\\newline$\n",
    "Parameters for each equation are provided in Table 1 (gutrich_howarth_table1.csv). The model seeks to optimize NPV by choosing stand age, $s$, the number of years since a clear-cut harvest. NPV can be decomposed as: $\\newline$\n",
    "\n",
    "$NPV_{social} = NPV_{timber} + NPV_{carbon}$. $\\newline$\n",
    "\n",
    "$NPV_{carbon}$ can be expressed as the product of the marginal benefit of carbon storage per year, $MB(t)$, the net uptake of carbon per year, $\\Delta C(t)$, and the discount rate, expressed by $r(t)$. The specifics are denoted below:$\\newline$ \n",
    "\n",
    "$NPV_{carbon} = \\sum_{t=0}^{\\infty}MB(t)\\Delta C(t)  \\prod_{i=1}^{t} 1 / (1 + r(t))$ $\\newline$\n",
    "\n",
    "$MB(t)$ may be chosen depending on different expectations of climate change; they use the equation:$\\newline$\n",
    "\n",
    "$MB_{low}(t) = 99.69 - (99.69 - 24.63)0.989^t$$\\newline$\n",
    "\n",
    "$\\Delta C(t)$ is given by: $\\newline$\n",
    "\n",
    "$\\Delta C(t) = C(t+1) - C(t)$  where $C(t)$ will be described in more detail later, \n",
    "\n",
    "and $r(t) follows: $\\newline$\n",
    "\n",
    "$r(t) = 0.0268 + (0.0434 - 0.0268) 0.992^t$. $\\newline$\n",
    "\n",
    "\n",
    "$NPV_{timber}$ represents the forest owner's attempts to maximize the revenue stream of timber stands by sequential timber harvests, and can be given by a discounted function of price and volume: $\\newline$\n",
    "\n",
    "$NPV_{timber} = \\sum_{i=1}^{\\infty} P(s_h, s_h * i) V(S_h) \\prod_{t=1}^{S_h * i}1 / (1 + r(t))$$\\newline$\n",
    "\n",
    "where $s_h$ denotes the stand age at harvest, $i$ denotes the harvest and $t = s_h * i$ denotes the date at which the $i$th harvest occurs. $\\newline$\n",
    "\n",
    "Price is decomposed in to the prices of pole timber and saw timber, which are extracted from volume at harvest based on equations derived from the US Forest service. These equations, as well as the equations governing volume and carbon sequestration will be described in more detail in the code of this model and may also be found in the text of the paper. $\\newline$\n",
    "\n",
    "The approach used for this project involves the use of Optim to recreate the optimization model, which the authors originally coded in Excel. In the original paper, the authors used a grid search strategy to determine private and social $s_h$ in one-year increments ranging from 15 to 500 years. These results are described in Table 2 (gutrich_howarth_table2.csv) and are compared with results using the Optim package. The problem being explored is a deterministic optimization problem, but extensions might be to add stochastic elements.  \n"
   ]
  },
  {
   "cell_type": "markdown",
   "metadata": {},
   "source": [
    "### Code\n",
    "\n",
    "As a preliminary effort, I evaluate the reproducibility of Gutrich & Howarth's results for private timber owners, NPV_timber. "
   ]
  },
  {
   "cell_type": "code",
   "execution_count": 146,
   "metadata": {},
   "outputs": [
    {
     "name": "stderr",
     "output_type": "stream",
     "text": [
      "WARNING: redefining constant T\n"
     ]
    },
    {
     "data": {
      "text/plain": [
       "500"
      ]
     },
     "execution_count": 146,
     "metadata": {},
     "output_type": "execute_result"
    }
   ],
   "source": [
    "using Optim\n",
    "\n",
    "# Parameter Values \n",
    "# To limit the scope of this project, only parameters for white-red jack pine will be used. \n",
    "# Parameters and definitions may be found in gutrich_howarth_table1.csv of this repo.\n",
    "# A more elegant solution would be to read in and assign these values from a \n",
    "#  data frame or dictionary; due to time constraints they're being hand-coded.\n",
    "\n",
    "const α0 = 431.\n",
    "const α1 = .0066\n",
    "const α2 = 4.47\n",
    "const Ppole = 19.8\n",
    "const Psaw = 121.\n",
    "const β0 = 6.37\n",
    "const β1 = 2.7\n",
    "const β2 = 5.4\n",
    "const γ0 = 155.\n",
    "const γ1 = .0115\n",
    "const Cdead0 = 20.5\n",
    "const δ0 = .045\n",
    "const δ1 = .258\n",
    "const δ2 = .358\n",
    "const Csoil = 196.\n",
    "const ϵ = .268\n",
    "const ϵ1 = .234\n",
    "const ϵ2 = .234\n",
    "const ϵ3 = .357\n",
    "const ϵ4 = .357\n",
    "const h1 = .208\n",
    "const h2 = .5\n",
    "const h3 = .114\n",
    "const h4 = .149\n",
    "const ϕ01 = .006\n",
    "const ϕ02 = .0038\n",
    "const ϕ03 = .0062\n",
    "const ϕ04 = .0042\n",
    "const ϕ11 = .237\n",
    "const ϕ12 = .298\n",
    "const ϕ13 = .227\n",
    "const ϕ14 = .187\n",
    "\n",
    "# Bounds on stand age at harvest \n",
    "x_bounds = (15, 500)\n",
    "\n",
    "# Time horizon (arbitrarily chosen, was not specified in paper)\n",
    "const T = 500"
   ]
  },
  {
   "cell_type": "code",
   "execution_count": 147,
   "metadata": {},
   "outputs": [
    {
     "name": "stdout",
     "output_type": "stream",
     "text": [
      "Optimal rotation period under private ownership: 37.0"
     ]
    }
   ],
   "source": [
    "# Private Forest Owner Optimization\n",
    "# The objective function to be optimized is NPV_timber \n",
    "\n",
    "# For the private forest owner \n",
    "# s = stand age in years\n",
    "# t = time (1:1000), years\n",
    "# The choice variable is stand age at harvest, x\n",
    "\n",
    "# Define Functions\n",
    "# Volume function\n",
    "V = s -> begin\n",
    "    if s >= α2\n",
    "        return α0 * (1 - (1 - α1)^(s - α2))\n",
    "    else\n",
    "        return 0.\n",
    "    end\n",
    "    \n",
    "end\n",
    "\n",
    "# Proportion of saw timber as function of total timber volume\n",
    "fsaw = s -> begin\n",
    "    if (β0*s / (s+β1) - β2) < 0\n",
    "        return 0\n",
    "    elseif (β0*s / (s + β1) - β2) > 1\n",
    "        return 1\n",
    "    else \n",
    "        return (β0*s / (s + β1) - β2)\n",
    "    end\n",
    "\n",
    "end\n",
    "\n",
    "# Price Function at harvest\n",
    "Price(x,t) = (Ppole * (1 - fsaw(x)) + Psaw*fsaw(x)) * 1.01^t\n",
    "\n",
    "# Discount rate\n",
    "r = t -> 0.0268 + (0.0434 - 0.0268) * 0.992^t\n",
    "\n",
    "# Timber Payoff Function\n",
    "NPV_timber = x -> begin\n",
    "    # Compute number of harvests for stand age s given time period T\n",
    "    # Assumes age of stand height at t=1 is 0\n",
    "    \n",
    "    nharvest = round(T / x, 0)\n",
    "    val = 0.\n",
    "    for i in 1:nharvest\n",
    "        dr = 1.\n",
    "        for t in 1:x*i\n",
    "            dr *= 1/(1+r(t))\n",
    "        end\n",
    "        val += Price(x, x*i) * V(x) * dr\n",
    "    end\n",
    "    return val\n",
    "    \n",
    "end\n",
    "\n",
    "# Optimization for private timber benefits\n",
    "xout = optimize(x-> -NPV_timber(x),15, 500)\n",
    "x_opt = Optim.minimizer(xout)[1]\n",
    "\n",
    "print(\"Optimal rotation period under private ownership: $(round(x_opt))\")"
   ]
  },
  {
   "cell_type": "markdown",
   "metadata": {},
   "source": [
    "This matches the result presented in Gutrich & Howarth (2007). (gutrich_howarth_table2.csv)"
   ]
  },
  {
   "cell_type": "markdown",
   "metadata": {},
   "source": [
    "### Carbon Sequestration\n",
    "\n",
    "I next extend the model to include net social benefits from carbon storage. I had to make some assumptions here because some things were not stated in the paper. "
   ]
  },
  {
   "cell_type": "code",
   "execution_count": 148,
   "metadata": {},
   "outputs": [
    {
     "data": {
      "text/plain": [
       "(::#677) (generic function with 1 method)"
      ]
     },
     "execution_count": 148,
     "metadata": {},
     "output_type": "execute_result"
    }
   ],
   "source": [
    "# Carbon Storage Functions\n",
    "# Carbon stored in living wood\n",
    "C_live = t -> γ0 * (1 - (1 - γ1)^t)\n",
    "\n",
    "# Decomposition\n",
    "# Define harvest function for harvest years (if t in x*i for i=1:nharvests)\n",
    "# Assumes harvest occurred in year 0\n",
    "H =(t,s) -> begin\n",
    "    nharvest = round(T / s, 0)\n",
    "    Ts = vcat(0,[s*i for i=1:nharvest])\n",
    "    if t in Ts\n",
    "        return V(s)\n",
    "    else \n",
    "        return 0\n",
    "    end\n",
    "    \n",
    "end\n",
    "\n",
    "# Decomposition function for years when harvest occurs\n",
    "D= (t,s) -> begin\n",
    "    if H(t,s) == 0\n",
    "        return 0\n",
    "    else\n",
    "        return C_live(t) * ϵ*H(t,s)\n",
    "    end\n",
    "end\n",
    "\n",
    "    \n",
    "# Other functions are dependent on their prior-year values\n",
    "# Carbon stored in dead wood\n",
    "Cdead = (t,s) -> begin\n",
    "    if t==0\n",
    "        return Cdead0\n",
    "    elseif t==1\n",
    "        return (1 - δ0)*(Cdead0 + δ1 * C_live(t-1)^δ2 + D(t-1,s))\n",
    "    else\n",
    "        return (1 - δ0)*(Cdead(t-1,s) + δ1 * C_live(t-1)^δ2 + D(t-1,s))\n",
    "    end\n",
    "end\n",
    "\n",
    "# Carbon stored in 4 categories of wood products\n",
    "# I am making the assumption that carbon storage in period 0 is harvested volume*fraction*carbon content\n",
    "# This is not stated in the paper    \n",
    "Cprod1 = (t,s) -> begin\n",
    "    if t==0\n",
    "        return ϵ1*h1*H(0,s)\n",
    "    elseif t==1\n",
    "        return (1 - ϕ01) * (H(0,s) + ϕ11*ϵ1*h1*H(0,s))\n",
    "    else\n",
    "        return (1 - ϕ01) * (Cprod1(t-1,s) + ϕ11*ϵ1*h1*H(t-1,s))\n",
    "    end\n",
    "        \n",
    "end\n",
    "\n",
    "Cprod2 = (t,s) -> begin\n",
    "    if t==0\n",
    "        return ϵ2*h2*H(0,s)\n",
    "    elseif t==1\n",
    "        return (1 - ϕ02) * (H(0,s) + ϕ12*ϵ2*h2*H(0,s))\n",
    "    else\n",
    "        return (1 - ϕ02) * (Cprod2(t-1,s) + ϕ12*ϵ2*h2*H(t-1,s))\n",
    "    end\n",
    "        \n",
    "end\n",
    "\n",
    "Cprod3 = (t,s) -> begin\n",
    "    if t==0\n",
    "        return ϵ3*h3*H(0,s)\n",
    "    elseif t==1\n",
    "        return (1 - ϕ03) * (H(0,s) + ϕ13*ϵ3*h3*H(0,s))\n",
    "    else\n",
    "        return (1 - ϕ03) * (Cprod3(t-1,s) + ϕ13*ϵ3*h3*H(t-1,s))\n",
    "    end\n",
    "        \n",
    "end\n",
    "\n",
    "Cprod4 = (t,s) -> begin\n",
    "    if t==0\n",
    "        return ϵ4*h4*H(0,s)\n",
    "    elseif t==1\n",
    "        return (1 - ϕ04) * (H(0,s) + ϕ14*ϵ4*h4*H(0,s))\n",
    "    else\n",
    "        return (1 - ϕ04) * (Cprod4(t-1,s) + ϕ14*ϵ4*h4*H(t-1,s))\n",
    "    end\n",
    "        \n",
    "end\n",
    "\n",
    "\n",
    "# C function\n",
    "C = (t, s) -> begin \n",
    "    return C_live(t) + Cdead(t,s) + Cprod1(t,s) + Cprod2(t,s) + Cprod3(t,s) + Cprod4(t,s)+ Csoil\n",
    "    \n",
    "end\n",
    "\n",
    "# DeltaC function\n",
    "deltaC = (t,s) -> begin\n",
    "    if t+1 >T\n",
    "        return 0.\n",
    "    else\n",
    "        return C(t+1,s) - C(t,s)\n",
    "    end\n",
    "        \n",
    "end\n",
    "\n",
    "# Marginal benefit function    \n",
    "MB = t -> 99.69 - (99.69 - 24.63)*0.989^t\n",
    "\n",
    "NPV_timber = x -> begin\n",
    "    # Compute number of harvests for stand age x given time period T\n",
    "    # Assumes age of stand height at t=1 is 0\n",
    "    \n",
    "    nharvest = round(T / x, 0)\n",
    "    val = 0.\n",
    "    for i in 1:nharvest\n",
    "        dr = 1.\n",
    "        for t in 1:x*i\n",
    "            dr *= 1/(1+r(t))\n",
    "        end\n",
    "        val += Price(x, x*i) * V(x) * dr\n",
    "    end\n",
    "    return val\n",
    "    \n",
    "end\n",
    "    "
   ]
  },
  {
   "cell_type": "code",
   "execution_count": 152,
   "metadata": {},
   "outputs": [
    {
     "data": {
      "text/plain": [
       "(::#689) (generic function with 1 method)"
      ]
     },
     "execution_count": 152,
     "metadata": {},
     "output_type": "execute_result"
    }
   ],
   "source": [
    "# NPV Carbon\n",
    "NPV_carbon = x -> begin\n",
    "       \n",
    "    val = 0.\n",
    "    for t=0:T\n",
    "        \n",
    "        dr = 1.\n",
    "        for i = 1:t\n",
    "          dr *= 1/(1+r(i))\n",
    "        end\n",
    "\n",
    "        val += MB(t) * deltaC(t,x)* dr\n",
    "\n",
    "        \n",
    "    end\n",
    "    return val\n",
    "end"
   ]
  },
  {
   "cell_type": "code",
   "execution_count": 154,
   "metadata": {},
   "outputs": [
    {
     "name": "stdout",
     "output_type": "stream",
     "text": [
      "Optimal rotation period under combined benefit: 55.0"
     ]
    }
   ],
   "source": [
    "# NPV Total\n",
    "NPV_total = x -> NPV_carbon(x) + NPV_timber(x)\n",
    "\n",
    "xout3 = optimize(x -> -NPV_total(x), 50, 55)\n",
    "x_opt3 = Optim.minimizer(xout3)\n",
    "\n",
    "print(\"Optimal rotation period under combined benefit: $(round(x_opt3))\")"
   ]
  },
  {
   "cell_type": "markdown",
   "metadata": {},
   "source": [
    "Unfortunately, I was unable to verify the results of Gutrich and Howarth (2007), due to the excessively long optimization time caused by the amount of recursivity in the carbon storage functions that I defined. I attempted to mitigate this somewhat by presenting a very restricted version of this optimization in the section above. This project would benefit from additional coding time to think of a way around the recursive element, or a way to restructure the optimization. $\\newline$\n",
    "\n",
    "These results do not recreate what is presented in the paper. This may be because of differences in carbon storage function zero period values, other issues with time-steps, or as-yet unidentified errors. In addition, this approach suffers from performance issues due to the recursive functions defined for carbon storage functions. $\\newline$\n",
    "\n",
    "Possible extensions of this project would be to explore adding stochastic shocks, Monte Carlo analysis, and techniques to create a more generic algorithm to solve this model. "
   ]
  }
 ],
 "metadata": {
  "kernelspec": {
   "display_name": "Julia 0.6.2",
   "language": "julia",
   "name": "julia-0.6"
  },
  "language_info": {
   "file_extension": ".jl",
   "mimetype": "application/julia",
   "name": "julia",
   "version": "0.6.2"
  }
 },
 "nbformat": 4,
 "nbformat_minor": 2
}
